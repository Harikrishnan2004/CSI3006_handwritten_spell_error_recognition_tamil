{
 "cells": [
  {
   "cell_type": "code",
   "execution_count": 2,
   "metadata": {},
   "outputs": [],
   "source": [
    "def com_1_edit_distance(word1, word2):\n",
    "    if len(word2) - len(word1) not in [-1, 0, 1]: return\n",
    "    edit = 0\n",
    "    cor1 = cor2 = action = None\n",
    "    if len(word1) < len(word2):\n",
    "        word1, word2 = word2, word1\n",
    "        action = \"insertion\"\n",
    "\n",
    "    if len(word1) == len(word2):\n",
    "        mistakes = []\n",
    "        for i in range(len(word1)):\n",
    "            if word1[i] != word2[i]:\n",
    "                edit += 1\n",
    "                cor1 = i\n",
    "                mistakes.append(i)\n",
    "                action = \"substitution\"\n",
    "                if edit > 2:\n",
    "                    return\n",
    "        if edit == 2:\n",
    "            if (\n",
    "                word1[mistakes[0]] == word2[mistakes[1]] and\n",
    "                word2[mistakes[0]] == word1[mistakes[1]]\n",
    "            ):\n",
    "                cor1 = mistakes[0]\n",
    "                cor2 = mistakes[1]\n",
    "                action = \"transposition\"\n",
    "                edit = 1\n",
    "    else:\n",
    "        i = 0\n",
    "        j = 0\n",
    "        if action is None:\n",
    "            action = \"deletion\"\n",
    "        \n",
    "        word2 += \"^\"\n",
    "        \n",
    "        word1 = list(word1)\n",
    "        word2 = list(word2)\n",
    "\n",
    "        while i < len(word1) and j < len(word2):\n",
    "            if word1[i] != word2[j]:\n",
    "                cor1 = i\n",
    "                i += 1\n",
    "                edit += 1\n",
    "                if edit > 1:\n",
    "                    return\n",
    "            else:\n",
    "                word1[i] = \">\"\n",
    "                word2[j] = \"<\"\n",
    "                i += 1\n",
    "                j += 1\n",
    "\n",
    "    if edit == 1:\n",
    "        return edit, action, cor1, cor2"
   ]
  },
  {
   "cell_type": "code",
   "execution_count": 3,
   "metadata": {},
   "outputs": [
    {
     "name": "stdout",
     "output_type": "stream",
     "text": [
      "(1, 'deletion', 0, None)\n"
     ]
    }
   ],
   "source": [
    "print(com_1_edit_distance(\"அகட்டு\", \"கட்டு\"))"
   ]
  },
  {
   "cell_type": "code",
   "execution_count": 4,
   "metadata": {},
   "outputs": [
    {
     "data": {
      "text/plain": [
       "(1, 'deletion', 6, None)"
      ]
     },
     "execution_count": 4,
     "metadata": {},
     "output_type": "execute_result"
    }
   ],
   "source": [
    "com_1_edit_distance(\"அகண்டதுவாதசி\", \"அகண்டதவாதசி\")"
   ]
  },
  {
   "cell_type": "code",
   "execution_count": 5,
   "metadata": {},
   "outputs": [
    {
     "data": {
      "text/plain": [
       "(1, 'insertion', 4, None)"
      ]
     },
     "execution_count": 5,
     "metadata": {},
     "output_type": "execute_result"
    }
   ],
   "source": [
    "com_1_edit_distance(\"அஃகேனம்\", \"அஃகேடனம்\")"
   ]
  },
  {
   "cell_type": "code",
   "execution_count": 6,
   "metadata": {},
   "outputs": [
    {
     "data": {
      "text/plain": [
       "(1, 'substitution', 5, None)"
      ]
     },
     "execution_count": 6,
     "metadata": {},
     "output_type": "execute_result"
    }
   ],
   "source": [
    "com_1_edit_distance(\"ஸ்தபதி\", \"ஸ்தபதீ\")"
   ]
  },
  {
   "cell_type": "code",
   "execution_count": 7,
   "metadata": {},
   "outputs": [
    {
     "data": {
      "text/plain": [
       "(1, 'transposition', 7, 9)"
      ]
     },
     "execution_count": 7,
     "metadata": {},
     "output_type": "execute_result"
    }
   ],
   "source": [
    "com_1_edit_distance(\"அர்த்தாங்கவாதம்\", \"அர்த்தாக்ஙவாதம்\")"
   ]
  },
  {
   "cell_type": "code",
   "execution_count": 8,
   "metadata": {},
   "outputs": [
    {
     "data": {
      "text/plain": [
       "(1, 'deletion', 7, None)"
      ]
     },
     "execution_count": 8,
     "metadata": {},
     "output_type": "execute_result"
    }
   ],
   "source": [
    "com_1_edit_distance(\"மலர்ப்பு\", \"மலர்ப்ப\")"
   ]
  },
  {
   "cell_type": "code",
   "execution_count": 9,
   "metadata": {},
   "outputs": [],
   "source": [
    "## Usage: com_1_edit_distance(<original non-error from dictionary>, <the error word>)"
   ]
  },
  {
   "cell_type": "code",
   "execution_count": 10,
   "metadata": {},
   "outputs": [
    {
     "data": {
      "text/html": [
       "<div>\n",
       "<style scoped>\n",
       "    .dataframe tbody tr th:only-of-type {\n",
       "        vertical-align: middle;\n",
       "    }\n",
       "\n",
       "    .dataframe tbody tr th {\n",
       "        vertical-align: top;\n",
       "    }\n",
       "\n",
       "    .dataframe thead th {\n",
       "        text-align: right;\n",
       "    }\n",
       "</style>\n",
       "<table border=\"1\" class=\"dataframe\">\n",
       "  <thead>\n",
       "    <tr style=\"text-align: right;\">\n",
       "      <th></th>\n",
       "      <th>0</th>\n",
       "    </tr>\n",
       "  </thead>\n",
       "  <tbody>\n",
       "    <tr>\n",
       "      <th>0</th>\n",
       "      <td>ஃ</td>\n",
       "    </tr>\n",
       "    <tr>\n",
       "      <th>1</th>\n",
       "      <td>ஃபாசிசம்</td>\n",
       "    </tr>\n",
       "    <tr>\n",
       "      <th>2</th>\n",
       "      <td>ஃபைலேரியா</td>\n",
       "    </tr>\n",
       "    <tr>\n",
       "      <th>3</th>\n",
       "      <td>அ</td>\n",
       "    </tr>\n",
       "    <tr>\n",
       "      <th>4</th>\n",
       "      <td>அஃக</td>\n",
       "    </tr>\n",
       "  </tbody>\n",
       "</table>\n",
       "</div>"
      ],
      "text/plain": [
       "           0\n",
       "0          ஃ\n",
       "1   ஃபாசிசம்\n",
       "2  ஃபைலேரியா\n",
       "3          அ\n",
       "4        அஃக"
      ]
     },
     "execution_count": 10,
     "metadata": {},
     "output_type": "execute_result"
    }
   ],
   "source": [
    "## Given a word, find all words within 1 edit distance to it\n",
    "import pandas as pd\n",
    "\n",
    "x = \"மலர்ப்ப\"\n",
    "wiki = pd.read_csv(\"./src/cleaned_wiktionary_words.csv\", header=None)\n",
    "wiki.head()"
   ]
  },
  {
   "cell_type": "code",
   "execution_count": 11,
   "metadata": {},
   "outputs": [
    {
     "data": {
      "text/plain": [
       "'அஃக'"
      ]
     },
     "execution_count": 11,
     "metadata": {},
     "output_type": "execute_result"
    }
   ],
   "source": [
    "wiki.iloc[4, 0]"
   ]
  },
  {
   "cell_type": "code",
   "execution_count": 12,
   "metadata": {},
   "outputs": [
    {
     "data": {
      "text/plain": [
       "89754"
      ]
     },
     "execution_count": 12,
     "metadata": {},
     "output_type": "execute_result"
    }
   ],
   "source": [
    "len(wiki)"
   ]
  },
  {
   "cell_type": "code",
   "execution_count": 13,
   "metadata": {},
   "outputs": [
    {
     "name": "stdout",
     "output_type": "stream",
     "text": [
      "மலர்ப்பு மலர்ப்ப (1, 'deletion', 7, None)\n"
     ]
    }
   ],
   "source": [
    "for i in range(len(wiki)):\n",
    "    res = com_1_edit_distance(wiki.iloc[i, 0], x)        \n",
    "    if res is not None:\n",
    "        print(wiki.iloc[i, 0], x, res)"
   ]
  },
  {
   "cell_type": "code",
   "execution_count": 15,
   "metadata": {},
   "outputs": [
    {
     "data": {
      "text/plain": [
       "(1, 'transposition', 1, 3)"
      ]
     },
     "execution_count": 15,
     "metadata": {},
     "output_type": "execute_result"
    }
   ],
   "source": [
    "com_1_edit_distance(\"அர்த்தம்\", \"அத்ர்தம்\")"
   ]
  },
  {
   "cell_type": "code",
   "execution_count": 3,
   "metadata": {},
   "outputs": [
    {
     "name": "stdout",
     "output_type": "stream",
     "text": [
      "அ\n",
      "த\n",
      "ை\n"
     ]
    }
   ],
   "source": [
    "x = \"அதை\"\n",
    "for i in x:\n",
    "    print(i)"
   ]
  },
  {
   "cell_type": "code",
   "execution_count": null,
   "metadata": {},
   "outputs": [],
   "source": []
  }
 ],
 "metadata": {
  "kernelspec": {
   "display_name": "Python 3",
   "language": "python",
   "name": "python3"
  },
  "language_info": {
   "codemirror_mode": {
    "name": "ipython",
    "version": 3
   },
   "file_extension": ".py",
   "mimetype": "text/x-python",
   "name": "python",
   "nbconvert_exporter": "python",
   "pygments_lexer": "ipython3",
   "version": "3.10.12"
  }
 },
 "nbformat": 4,
 "nbformat_minor": 2
}
