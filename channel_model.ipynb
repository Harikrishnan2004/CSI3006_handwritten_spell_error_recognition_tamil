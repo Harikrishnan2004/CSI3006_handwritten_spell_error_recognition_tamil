{
 "cells": [
  {
   "cell_type": "code",
   "execution_count": 4,
   "metadata": {},
   "outputs": [],
   "source": [
    "from com_1_edit_distance import com_1_edit_distance\n",
    "import string\n",
    "import pandas as pd"
   ]
  },
  {
   "cell_type": "code",
   "execution_count": 63,
   "metadata": {},
   "outputs": [],
   "source": [
    "sentence = \"மளை பெய்தால், விவசாயிகளுக்கு அதிக வருமானம் கிடைக்கும்\""
   ]
  },
  {
   "cell_type": "code",
   "execution_count": 64,
   "metadata": {},
   "outputs": [],
   "source": [
    "tokens = sentence.split(\" \")"
   ]
  },
  {
   "cell_type": "code",
   "execution_count": 65,
   "metadata": {},
   "outputs": [
    {
     "data": {
      "text/plain": [
       "['மளை', 'பெய்தால்,', 'விவசாயிகளுக்கு', 'அதிக', 'வருமானம்', 'கிடைக்கும்']"
      ]
     },
     "execution_count": 65,
     "metadata": {},
     "output_type": "execute_result"
    }
   ],
   "source": [
    "tokens"
   ]
  },
  {
   "cell_type": "code",
   "execution_count": 66,
   "metadata": {},
   "outputs": [
    {
     "data": {
      "text/plain": [
       "['மளை', 'பெய்தால்', 'விவசாயிகளுக்கு', 'அதிக', 'வருமானம்', 'கிடைக்கும்']"
      ]
     },
     "execution_count": 66,
     "metadata": {},
     "output_type": "execute_result"
    }
   ],
   "source": [
    "_tokens = tokens.copy()\n",
    "for i in range(len(tokens)):\n",
    "    _token = list(tokens[i])\n",
    "    __token = _token.copy()\n",
    "    for unit in _token:\n",
    "        if unit in string.punctuation:\n",
    "            __token.remove(unit)\n",
    "    \n",
    "    _tokens[i] = \"\".join(__token)\n",
    "_tokens"
   ]
  },
  {
   "cell_type": "code",
   "execution_count": 67,
   "metadata": {},
   "outputs": [],
   "source": [
    "import pandas as pd"
   ]
  },
  {
   "cell_type": "code",
   "execution_count": 68,
   "metadata": {},
   "outputs": [
    {
     "data": {
      "text/html": [
       "<div>\n",
       "<style scoped>\n",
       "    .dataframe tbody tr th:only-of-type {\n",
       "        vertical-align: middle;\n",
       "    }\n",
       "\n",
       "    .dataframe tbody tr th {\n",
       "        vertical-align: top;\n",
       "    }\n",
       "\n",
       "    .dataframe thead th {\n",
       "        text-align: right;\n",
       "    }\n",
       "</style>\n",
       "<table border=\"1\" class=\"dataframe\">\n",
       "  <thead>\n",
       "    <tr style=\"text-align: right;\">\n",
       "      <th></th>\n",
       "      <th>0</th>\n",
       "      <th>1</th>\n",
       "      <th>2</th>\n",
       "    </tr>\n",
       "  </thead>\n",
       "  <tbody>\n",
       "    <tr>\n",
       "      <th>0</th>\n",
       "      <td>Root</td>\n",
       "      <td>NaN</td>\n",
       "      <td>derivation</td>\n",
       "    </tr>\n",
       "    <tr>\n",
       "      <th>1</th>\n",
       "      <td>செய்</td>\n",
       "      <td>889.0</td>\n",
       "      <td>செய்து,செய்ய,செய்யவும்,செய்வதில்,செய்யும்,செய்...</td>\n",
       "    </tr>\n",
       "    <tr>\n",
       "      <th>2</th>\n",
       "      <td>இது</td>\n",
       "      <td>868.0</td>\n",
       "      <td>இது,இதை,இதுகுறித்து,இதனை,இதையும்,இதனைக்,இத்தகை...</td>\n",
       "    </tr>\n",
       "    <tr>\n",
       "      <th>3</th>\n",
       "      <td>இரு</td>\n",
       "      <td>851.0</td>\n",
       "      <td>இருந்தால்,இருக்கும்,இருக்கும்பொழுது,இருந்து,இர...</td>\n",
       "    </tr>\n",
       "    <tr>\n",
       "      <th>4</th>\n",
       "      <td>மேல்</td>\n",
       "      <td>805.0</td>\n",
       "      <td>மேலும்,மேல்,மேலே,மேலிலிருந்து,மேல்குறித்த,மேலு...</td>\n",
       "    </tr>\n",
       "  </tbody>\n",
       "</table>\n",
       "</div>"
      ],
      "text/plain": [
       "      0      1                                                  2\n",
       "0  Root    NaN                                         derivation\n",
       "1  செய்  889.0  செய்து,செய்ய,செய்யவும்,செய்வதில்,செய்யும்,செய்...\n",
       "2   இது  868.0  இது,இதை,இதுகுறித்து,இதனை,இதையும்,இதனைக்,இத்தகை...\n",
       "3   இரு  851.0  இருந்தால்,இருக்கும்,இருக்கும்பொழுது,இருந்து,இர...\n",
       "4  மேல்  805.0  மேலும்,மேல்,மேலே,மேலிலிருந்து,மேல்குறித்த,மேலு..."
      ]
     },
     "execution_count": 68,
     "metadata": {},
     "output_type": "execute_result"
    }
   ],
   "source": [
    "words_with_root = pd.read_csv(\"./src/MostusedRootwords.csv\", header=None)\n",
    "words_with_root.head()"
   ]
  },
  {
   "cell_type": "code",
   "execution_count": 1,
   "metadata": {},
   "outputs": [
    {
     "ename": "NameError",
     "evalue": "name '_tokens' is not defined",
     "output_type": "error",
     "traceback": [
      "\u001b[0;31m---------------------------------------------------------------------------\u001b[0m",
      "\u001b[0;31mNameError\u001b[0m                                 Traceback (most recent call last)",
      "Cell \u001b[0;32mIn[1], line 2\u001b[0m\n\u001b[1;32m      1\u001b[0m non_words \u001b[38;5;241m=\u001b[39m []\n\u001b[0;32m----> 2\u001b[0m \u001b[38;5;28;01mfor\u001b[39;00m token \u001b[38;5;129;01min\u001b[39;00m \u001b[43m_tokens\u001b[49m:\n\u001b[1;32m      3\u001b[0m     \u001b[38;5;28;01mif\u001b[39;00m \u001b[38;5;129;01mnot\u001b[39;00m words_with_root[\u001b[38;5;241m2\u001b[39m]\u001b[38;5;241m.\u001b[39mstr\u001b[38;5;241m.\u001b[39mcontains(token)\u001b[38;5;241m.\u001b[39many():\n\u001b[1;32m      4\u001b[0m         non_words\u001b[38;5;241m.\u001b[39mappend(token)\n",
      "\u001b[0;31mNameError\u001b[0m: name '_tokens' is not defined"
     ]
    }
   ],
   "source": [
    "non_words = []\n",
    "for token in _tokens:\n",
    "    if not words_with_root[2].str.contains(token).any():\n",
    "        non_words.append(token)"
   ]
  },
  {
   "cell_type": "code",
   "execution_count": 70,
   "metadata": {},
   "outputs": [
    {
     "data": {
      "text/plain": [
       "['மளை']"
      ]
     },
     "execution_count": 70,
     "metadata": {},
     "output_type": "execute_result"
    }
   ],
   "source": [
    "non_words"
   ]
  },
  {
   "cell_type": "code",
   "execution_count": 71,
   "metadata": {},
   "outputs": [
    {
     "data": {
      "text/html": [
       "<div>\n",
       "<style scoped>\n",
       "    .dataframe tbody tr th:only-of-type {\n",
       "        vertical-align: middle;\n",
       "    }\n",
       "\n",
       "    .dataframe tbody tr th {\n",
       "        vertical-align: top;\n",
       "    }\n",
       "\n",
       "    .dataframe thead th {\n",
       "        text-align: right;\n",
       "    }\n",
       "</style>\n",
       "<table border=\"1\" class=\"dataframe\">\n",
       "  <thead>\n",
       "    <tr style=\"text-align: right;\">\n",
       "      <th></th>\n",
       "      <th>0</th>\n",
       "    </tr>\n",
       "  </thead>\n",
       "  <tbody>\n",
       "    <tr>\n",
       "      <th>0</th>\n",
       "      <td>ஃ</td>\n",
       "    </tr>\n",
       "    <tr>\n",
       "      <th>1</th>\n",
       "      <td>ஃபாசிசம்</td>\n",
       "    </tr>\n",
       "    <tr>\n",
       "      <th>2</th>\n",
       "      <td>ஃபைலேரியா</td>\n",
       "    </tr>\n",
       "    <tr>\n",
       "      <th>3</th>\n",
       "      <td>அ</td>\n",
       "    </tr>\n",
       "    <tr>\n",
       "      <th>4</th>\n",
       "      <td>அஃக</td>\n",
       "    </tr>\n",
       "  </tbody>\n",
       "</table>\n",
       "</div>"
      ],
      "text/plain": [
       "           0\n",
       "0          ஃ\n",
       "1   ஃபாசிசம்\n",
       "2  ஃபைலேரியா\n",
       "3          அ\n",
       "4        அஃக"
      ]
     },
     "execution_count": 71,
     "metadata": {},
     "output_type": "execute_result"
    }
   ],
   "source": [
    "wiki = pd.read_csv(\"./src/cleaned_wiktionary_words.csv\", header=None)\n",
    "wiki.head()"
   ]
  },
  {
   "cell_type": "code",
   "execution_count": 72,
   "metadata": {},
   "outputs": [
    {
     "name": "stdout",
     "output_type": "stream",
     "text": [
      "Word: மளை\n",
      "அமளை^மளை^(1, 'deletion', 0, None)\n",
      "அளை^மளை^(1, 'substitution', 0, None)\n",
      "ஆளை^மளை^(1, 'substitution', 0, None)\n",
      "இளை^மளை^(1, 'substitution', 0, None)\n",
      "ஈளை^மளை^(1, 'substitution', 0, None)\n",
      "உளை^மளை^(1, 'substitution', 0, None)\n",
      "ஊளை^மளை^(1, 'substitution', 0, None)\n",
      "களை^மளை^(1, 'substitution', 0, None)\n",
      "தளை^மளை^(1, 'substitution', 0, None)\n",
      "நளை^மளை^(1, 'substitution', 0, None)\n",
      "பளை^மளை^(1, 'substitution', 0, None)\n",
      "மடை^மளை^(1, 'substitution', 1, None)\n",
      "மணை^மளை^(1, 'substitution', 1, None)\n",
      "மதளை^மளை^(1, 'deletion', 1, None)\n",
      "மனை^மளை^(1, 'substitution', 1, None)\n",
      "மரை^மளை^(1, 'substitution', 1, None)\n",
      "மறை^மளை^(1, 'substitution', 1, None)\n",
      "மலை^மளை^(1, 'substitution', 1, None)\n",
      "மழை^மளை^(1, 'substitution', 1, None)\n",
      "மாளை^மளை^(1, 'deletion', 1, None)\n",
      "மிளை^மளை^(1, 'deletion', 1, None)\n",
      "முளை^மளை^(1, 'deletion', 1, None)\n",
      "மூளை^மளை^(1, 'deletion', 1, None)\n",
      "மை^மளை^(1, 'insertion', 1, None)\n",
      "வளை^மளை^(1, 'substitution', 0, None)\n"
     ]
    }
   ],
   "source": [
    "channel_probs = {}\n",
    "for non_word in non_words:\n",
    "    print(\"Word:\", non_word)\n",
    "    for i in range(len(wiki)):\n",
    "        res = com_1_edit_distance(wiki.iloc[i, 0], non_word)        \n",
    "        if res is not None:\n",
    "            key = wiki.iloc[i, 0] + \"^\" + non_word + \"^\" + str(res)\n",
    "            channel_probs[key] = 0\n",
    "            print(key)"
   ]
  },
  {
   "cell_type": "code",
   "execution_count": 73,
   "metadata": {},
   "outputs": [
    {
     "name": "stdout",
     "output_type": "stream",
     "text": [
      "1.0 48359.0\n",
      "1.0 48359.0\n",
      "1.0 48359.0\n",
      "1.0 48359.0\n",
      "1.0 48359.0\n",
      "1.0 48359.0\n",
      "1.0 48359.0\n",
      "1.0 48359.0\n",
      "1.0 48359.0\n",
      "1.0 48359.0\n",
      "1.0 10486.0\n",
      "1.0 10486.0\n",
      "1.0 10486.0\n",
      "1.0 10486.0\n",
      "1.0 10486.0\n",
      "7947.0 10486.0\n",
      "1381.0 10486.0\n",
      "1.0 48359.0\n"
     ]
    }
   ],
   "source": [
    "import numpy as np\n",
    "import pickle\n",
    "\n",
    "all_letters_unicode_b10 = np.array([2947,2949,2950,2951,2952,2953,2954,2958,2959,2960,2962,2963,2964,2965,2969,2970,2972,2974,2975,2979,2980,2984,2985,2986,2990,2991,2992,2993,2994,2995,2996,2997,2998,2999,3000,3001,3006,3007,3008,3009,3010,3014,3015,3016,3018,3019,3020,3021])\n",
    "with open(\"./src/_count.pkl\", \"rb\") as file:\n",
    "    _count = pickle.load(file)\n",
    "\n",
    "count_array = np.load(\"./src/count_array.npy\")\n",
    "sub = np.load(\"./src/sub.npy\")\n",
    "tra = np.load(\"./src/tra.npy\")\n",
    "ins = np.load(\"./src/ins.npy\")\n",
    "_del = np.load(\"./src/del.npy\")\n",
    "\n",
    "def compute_channel_probability(x, y, err):\n",
    "    if err[1] == \"insertion\":\n",
    "        i = np.where(all_letters_unicode_b10 == ord(y[err[2]-1]))[0][0]\n",
    "        j = np.where(all_letters_unicode_b10 == ord(y[err[2]]))[0][0]\n",
    "        \n",
    "        return ins[i, j] / count_array[i]\n",
    "\n",
    "    elif err[1] == \"transposition\":\n",
    "        i = np.where(all_letters_unicode_b10 == ord(x[err[2]]))[0][0]\n",
    "        j = np.where(all_letters_unicode_b10 == ord(x[err[3]]))[0][0]\n",
    "        \n",
    "        return tra[i, j] / _count[(i, j)]\n",
    "    \n",
    "    elif err[1] == \"substitution\":\n",
    "        pre = np.where(all_letters_unicode_b10 == ord(x[err[2]]))[0][0]\n",
    "        post = np.where(all_letters_unicode_b10 == ord(y[err[2]]))[0][0]\n",
    "\n",
    "        print(sub[pre, post], count_array[post])\n",
    "\n",
    "        return sub[pre, post] / count_array[post]\n",
    "        \n",
    "    \n",
    "    elif err[1] == \"deletion\":\n",
    "        i = np.where(all_letters_unicode_b10 == ord(x[err[2]-1]))[0][0]\n",
    "        j = np.where(all_letters_unicode_b10 == ord(x[err[2]]))[0][0]\n",
    "        \n",
    "        return _del[i, j] / _count[(i, j)]\n",
    "    \n",
    "    else:\n",
    "        raise Exception(\"Unkown Error Cause\")\n",
    "\n",
    "for key in channel_probs:\n",
    "    x, y, err = key.split(\"^\")\n",
    "    err = eval(err)\n",
    "    channel_probs[key] = compute_channel_probability(x, y, err)"
   ]
  },
  {
   "cell_type": "code",
   "execution_count": 74,
   "metadata": {},
   "outputs": [
    {
     "data": {
      "text/plain": [
       "{\"அமளை^மளை^(1, 'deletion', 0, None)\": 0.3333333333333333,\n",
       " \"அளை^மளை^(1, 'substitution', 0, None)\": 2.067867408341777e-05,\n",
       " \"ஆளை^மளை^(1, 'substitution', 0, None)\": 2.067867408341777e-05,\n",
       " \"இளை^மளை^(1, 'substitution', 0, None)\": 2.067867408341777e-05,\n",
       " \"ஈளை^மளை^(1, 'substitution', 0, None)\": 2.067867408341777e-05,\n",
       " \"உளை^மளை^(1, 'substitution', 0, None)\": 2.067867408341777e-05,\n",
       " \"ஊளை^மளை^(1, 'substitution', 0, None)\": 2.067867408341777e-05,\n",
       " \"களை^மளை^(1, 'substitution', 0, None)\": 2.067867408341777e-05,\n",
       " \"தளை^மளை^(1, 'substitution', 0, None)\": 2.067867408341777e-05,\n",
       " \"நளை^மளை^(1, 'substitution', 0, None)\": 2.067867408341777e-05,\n",
       " \"பளை^மளை^(1, 'substitution', 0, None)\": 2.067867408341777e-05,\n",
       " \"மடை^மளை^(1, 'substitution', 1, None)\": 9.536524890329964e-05,\n",
       " \"மணை^மளை^(1, 'substitution', 1, None)\": 9.536524890329964e-05,\n",
       " \"மதளை^மளை^(1, 'deletion', 1, None)\": 0.004915615271178109,\n",
       " \"மனை^மளை^(1, 'substitution', 1, None)\": 9.536524890329964e-05,\n",
       " \"மரை^மளை^(1, 'substitution', 1, None)\": 9.536524890329964e-05,\n",
       " \"மறை^மளை^(1, 'substitution', 1, None)\": 9.536524890329964e-05,\n",
       " \"மலை^மளை^(1, 'substitution', 1, None)\": 0.7578676330345222,\n",
       " \"மழை^மளை^(1, 'substitution', 1, None)\": 0.1316994087354568,\n",
       " \"மாளை^மளை^(1, 'deletion', 1, None)\": 0.02008295132067234,\n",
       " \"மிளை^மளை^(1, 'deletion', 1, None)\": 0.06052883083784645,\n",
       " \"முளை^மளை^(1, 'deletion', 1, None)\": 0.12881658123467796,\n",
       " \"மூளை^மளை^(1, 'deletion', 1, None)\": 0.2626959247648903,\n",
       " \"மை^மளை^(1, 'insertion', 1, None)\": 2.067867408341777e-05,\n",
       " \"வளை^மளை^(1, 'substitution', 0, None)\": 2.067867408341777e-05}"
      ]
     },
     "execution_count": 74,
     "metadata": {},
     "output_type": "execute_result"
    }
   ],
   "source": [
    "channel_probs"
   ]
  },
  {
   "cell_type": "code",
   "execution_count": 76,
   "metadata": {},
   "outputs": [
    {
     "data": {
      "text/plain": [
       "[0.7578676330345222,\n",
       " 0.3333333333333333,\n",
       " 0.2626959247648903,\n",
       " 0.1316994087354568,\n",
       " 0.12881658123467796,\n",
       " 0.06052883083784645,\n",
       " 0.02008295132067234,\n",
       " 0.004915615271178109,\n",
       " 9.536524890329964e-05,\n",
       " 9.536524890329964e-05,\n",
       " 9.536524890329964e-05,\n",
       " 9.536524890329964e-05,\n",
       " 9.536524890329964e-05,\n",
       " 2.067867408341777e-05,\n",
       " 2.067867408341777e-05,\n",
       " 2.067867408341777e-05,\n",
       " 2.067867408341777e-05,\n",
       " 2.067867408341777e-05,\n",
       " 2.067867408341777e-05,\n",
       " 2.067867408341777e-05,\n",
       " 2.067867408341777e-05,\n",
       " 2.067867408341777e-05,\n",
       " 2.067867408341777e-05,\n",
       " 2.067867408341777e-05,\n",
       " 2.067867408341777e-05]"
      ]
     },
     "execution_count": 76,
     "metadata": {},
     "output_type": "execute_result"
    }
   ],
   "source": [
    "sorted(channel_probs.values(), reverse=True)"
   ]
  },
  {
   "cell_type": "code",
   "execution_count": null,
   "metadata": {},
   "outputs": [],
   "source": []
  }
 ],
 "metadata": {
  "kernelspec": {
   "display_name": "Python 3",
   "language": "python",
   "name": "python3"
  },
  "language_info": {
   "codemirror_mode": {
    "name": "ipython",
    "version": 3
   },
   "file_extension": ".py",
   "mimetype": "text/x-python",
   "name": "python",
   "nbconvert_exporter": "python",
   "pygments_lexer": "ipython3",
   "version": "3.10.12"
  }
 },
 "nbformat": 4,
 "nbformat_minor": 2
}
